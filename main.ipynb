{
 "cells": [
  {
   "cell_type": "code",
   "execution_count": 38,
   "metadata": {},
   "outputs": [
    {
     "name": "stdout",
     "output_type": "stream",
     "text": [
      "Model: \"sequential_2\"\n",
      "_________________________________________________________________\n",
      " Layer (type)                Output Shape              Param #   \n",
      "=================================================================\n",
      " conv2d_6 (Conv2D)           (None, 256, 160, 16)      208       \n",
      "                                                                 \n",
      " max_pooling2d_6 (MaxPooling  (None, 128, 80, 16)      0         \n",
      " 2D)                                                             \n",
      "                                                                 \n",
      " conv2d_7 (Conv2D)           (None, 128, 80, 32)       2080      \n",
      "                                                                 \n",
      " max_pooling2d_7 (MaxPooling  (None, 64, 40, 32)       0         \n",
      " 2D)                                                             \n",
      "                                                                 \n",
      " conv2d_8 (Conv2D)           (None, 64, 40, 64)        8256      \n",
      "                                                                 \n",
      " max_pooling2d_8 (MaxPooling  (None, 32, 20, 64)       0         \n",
      " 2D)                                                             \n",
      "                                                                 \n",
      " dropout_4 (Dropout)         (None, 32, 20, 64)        0         \n",
      "                                                                 \n",
      " flatten_2 (Flatten)         (None, 40960)             0         \n",
      "                                                                 \n",
      " dense_4 (Dense)             (None, 500)               20480500  \n",
      "                                                                 \n",
      " dropout_5 (Dropout)         (None, 500)               0         \n",
      "                                                                 \n",
      " dense_5 (Dense)             (None, 3)                 1503      \n",
      "                                                                 \n",
      "=================================================================\n",
      "Total params: 20,492,547\n",
      "Trainable params: 20,492,547\n",
      "Non-trainable params: 0\n",
      "_________________________________________________________________\n"
     ]
    }
   ],
   "source": [
    "from keras.models import Sequential\n",
    "from keras.layers import Conv2D, MaxPooling2D, Flatten, Dense, Dropout\n",
    "\n",
    "model = Sequential()\n",
    "model.add(Conv2D(filters=16, kernel_size=2, padding='same', activation='relu', \n",
    "                        input_shape=(256, 160, 3)))\n",
    "model.add(MaxPooling2D(pool_size=2))\n",
    "model.add(Conv2D(filters=32, kernel_size=2, padding='same', activation='tanh'))\n",
    "model.add(MaxPooling2D(pool_size=2))\n",
    "model.add(Conv2D(filters=64, kernel_size=2, padding='same', activation='tanh'))\n",
    "model.add(MaxPooling2D(pool_size=2))\n",
    "model.add(Dropout(0.3))\n",
    "model.add(Flatten())\n",
    "model.add(Dense(500, activation='relu'))\n",
    "model.add(Dropout(0.4))\n",
    "model.add(Dense(3, activation='softmax'))\n",
    "\n",
    "model.summary()"
   ]
  },
  {
   "cell_type": "code",
   "execution_count": 39,
   "metadata": {},
   "outputs": [],
   "source": [
    "model.compile(loss='categorical_crossentropy', optimizer='rmsprop', \n",
    "                  metrics=['accuracy'])"
   ]
  },
  {
   "cell_type": "code",
   "execution_count": 7,
   "metadata": {},
   "outputs": [],
   "source": [
    "import numpy as np\n",
    "import os "
   ]
  },
  {
   "cell_type": "code",
   "execution_count": 11,
   "metadata": {},
   "outputs": [],
   "source": [
    "import matplotlib.pyplot as plt\n",
    "from PIL import Image"
   ]
  },
  {
   "cell_type": "code",
   "execution_count": 15,
   "metadata": {},
   "outputs": [
    {
     "name": "stdout",
     "output_type": "stream",
     "text": [
      "60\n",
      "73\n",
      "60\n",
      "60\n",
      "73\n"
     ]
    }
   ],
   "source": [
    "from numpy import asarray\n",
    "all_images = []\n",
    "n=0\n",
    "for image_path in os.listdir('/workspaces/Boston-IT/CELOSIA ARGENTEA L'):\n",
    "    image_path='/workspaces/Boston-IT/CELOSIA ARGENTEA L/'+image_path\n",
    "    img = Image.open(image_path)\n",
    "    img=img.resize((160,256))\n",
    "    n=n+1\n",
    "    im=asarray(img)\n",
    "    all_images.append(im)\n",
    "n=0\n",
    "for image_path in os.listdir('/workspaces/Boston-IT/CROWFOOT GRASS'):\n",
    "  image_path='/workspaces/Boston-IT/CROWFOOT GRASS/'+image_path\n",
    "  img = Image.open(image_path)\n",
    "  img = img.resize((160,256))\n",
    "  n=n+1\n",
    "  im=asarray(img)\n",
    "  all_images.append(im)\n",
    "  \n",
    "print(n)\n",
    "\n",
    "n=0\n",
    "for image_path in os.listdir('/workspaces/Boston-IT/PURPLE CHLORIS'):\n",
    "  image_path='/workspaces/Boston-IT/PURPLE CHLORIS/'+image_path\n",
    "  img = Image.open(image_path)\n",
    "  img = img.resize((160,256))\n",
    "  n=n+1\n",
    "  im=asarray(img)\n",
    "  all_images.append(im)\n",
    "print(n)\n",
    "\n",
    "target=[]\n",
    "n = 0\n",
    "for x in list(range(0,60)):\n",
    "    target.append(0)\n",
    "    n=n+1\n",
    "print(n)\n",
    "n = 0\n",
    "for x in list(range(0,60)):\n",
    "    target.append(1)\n",
    "    n=n+1\n",
    "print(n)\n",
    "n = 0\n",
    "for x in list(range(0,73)):\n",
    "    target.append(2)\n",
    "    n=n+1\n",
    "print(n)\n"
   ]
  },
  {
   "cell_type": "code",
   "execution_count": 16,
   "metadata": {},
   "outputs": [],
   "source": [
    "target=np.array(target)"
   ]
  },
  {
   "cell_type": "code",
   "execution_count": 26,
   "metadata": {},
   "outputs": [],
   "source": [
    "from sklearn.model_selection import train_test_split\n",
    "X_train, X_test, y_train, y_test = train_test_split(all_images,target,test_size=0.2, random_state=0)"
   ]
  },
  {
   "cell_type": "code",
   "execution_count": 27,
   "metadata": {},
   "outputs": [],
   "source": [
    "for x in list(range(0,154)):\n",
    "  X_train[x]=X_train[x]/255.0\n",
    "\n",
    "\n",
    "for x in list(range(0,39)):\n",
    "  X_test[x]=X_test[x]/255.0"
   ]
  },
  {
   "cell_type": "code",
   "execution_count": 29,
   "metadata": {},
   "outputs": [],
   "source": [
    "X_test=np.array(X_test)"
   ]
  },
  {
   "cell_type": "code",
   "execution_count": 30,
   "metadata": {},
   "outputs": [],
   "source": [
    "X_train=np.array(X_train)"
   ]
  },
  {
   "cell_type": "code",
   "execution_count": 34,
   "metadata": {},
   "outputs": [],
   "source": [
    "X_train = X_train.reshape(X_train.shape[0],256 ,160,3)\n",
    "X_test = X_test.reshape(X_test.shape[0],256,160,3)"
   ]
  },
  {
   "cell_type": "code",
   "execution_count": 32,
   "metadata": {},
   "outputs": [],
   "source": [
    "from keras.utils import np_utils\n",
    "y_train = np_utils.to_categorical(y_train, 3)\n",
    "y_test = np_utils.to_categorical(y_test, 3)"
   ]
  },
  {
   "cell_type": "code",
   "execution_count": null,
   "metadata": {},
   "outputs": [],
   "source": [
    "hist = model.fit(X_train,y_train,epochs=1, validation_data=(X_test, y_test), verbose=1)"
   ]
  },
  {
   "cell_type": "code",
   "execution_count": null,
   "metadata": {},
   "outputs": [],
   "source": [
    "f, ax = plt.subplots()\n",
    "ax.plot([None] + hist.history['accuracy'], 'o-')\n",
    "ax.plot([None] + hist.history['val_accuracy'], 'x-')\n",
    "# Plot legend and use the best location automatically: loc = 0.\n",
    "ax.legend(['Train acc', 'Validation acc'], loc = 0)\n",
    "ax.set_title('Training/Validation acc per Epoch')\n",
    "ax.set_xlabel('Epoch')\n",
    "ax.set_ylabel('accuracy')"
   ]
  }
 ],
 "metadata": {
  "kernelspec": {
   "display_name": "Python 3",
   "language": "python",
   "name": "python3"
  },
  "language_info": {
   "codemirror_mode": {
    "name": "ipython",
    "version": 3
   },
   "file_extension": ".py",
   "mimetype": "text/x-python",
   "name": "python",
   "nbconvert_exporter": "python",
   "pygments_lexer": "ipython3",
   "version": "3.10.4"
  },
  "orig_nbformat": 4
 },
 "nbformat": 4,
 "nbformat_minor": 2
}
